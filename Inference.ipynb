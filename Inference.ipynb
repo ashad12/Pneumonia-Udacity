{
 "cells": [
  {
   "cell_type": "code",
   "execution_count": 1,
   "metadata": {},
   "outputs": [
    {
     "name": "stderr",
     "output_type": "stream",
     "text": [
      "Using TensorFlow backend.\n"
     ]
    }
   ],
   "source": [
    "import numpy as np\n",
    "import pandas as pd\n",
    "import pydicom\n",
    "%matplotlib inline\n",
    "import matplotlib.pyplot as plt\n",
    "import keras\n",
    "import PIL\n",
    "\n",
    "import tensorflow as tf"
   ]
  },
  {
   "cell_type": "code",
   "execution_count": 15,
   "metadata": {},
   "outputs": [],
   "source": [
    "# This function reads in a .dcm file, checks the important fields for our device, and returns a numpy array\n",
    "# of just the imaging data\n",
    "def check_dicom(filename): \n",
    "    # todo\n",
    "    \n",
    "    print('Load file {} ...'.format(filename))\n",
    "    ds = pydicom.dcmread(filename)\n",
    "    patient_age = ds.PatientAge\n",
    "    scan_part = ds.BodyPartExamined\n",
    "    position = ds.PatientPosition\n",
    "    if int(patient_age)>70:\n",
    "        print(f'WARNING: Patient age is {patient_age} > 70')\n",
    "    if scan_part != \"CHEST\":\n",
    "        print(f'WARNING: CHEST is NOT scanned. Scanned body part is {scan_part}')\n",
    "    if position not in (\"PA\", \"AP\"):\n",
    "        print(f'WARNING: Patient position is {position}')\n",
    "        \n",
    "    print(f\"Study Description: {ds.StudyDescription}\")\n",
    "    img = ds.pixel_array\n",
    "    \n",
    "    img_gray = PIL.Image.fromarray(img)\n",
    "    img_RGB = PIL.Image.new(\"RGB\", img_gray.size)\n",
    "    img_RGB.paste(img_gray)\n",
    "    img_array = np.asarray(img_RGB, dtype=float)\n",
    "    \n",
    "    return img_array\n",
    "    \n",
    "    \n",
    "# This function takes the numpy array output by check_dicom and \n",
    "# runs the appropriate pre-processing needed for our model input\n",
    "def preprocess_image(img, img_mean=[0.485, 0.456, 0.406], img_std=[0.229, 0.224, 0.225],\n",
    "                     img_size=(224, 224), rescale=1/255): \n",
    "    # todo\n",
    "    \n",
    "    image_copy = tf.image.resize(img, img_size)\n",
    "    image_copy = image_copy[25:150, 25:200,:]\n",
    "    image_copy = rescale*tf.image.resize(image_copy, img_size)\n",
    "    \n",
    "    proc_img = (image_copy - img_mean)/img_std\n",
    "    \n",
    "    return tf.expand_dims(proc_img, 0)\n",
    "\n",
    "# This function loads in our trained model w/ weights and compiles it \n",
    "def load_model(model_path, weight_path):\n",
    "    # todo\n",
    "    with open(model_path, 'r') as json_file:\n",
    "        json_model= json_file.read()\n",
    "        \n",
    "    model = keras.models.model_from_json(json_model)\n",
    "    model.load_weights(weight_path)    \n",
    "    \n",
    "    return model\n",
    "\n",
    "# This function uses our device's threshold parameters to predict whether or not\n",
    "# the image shows the presence of pneumonia using our trained model\n",
    "def predict_image(model, img, thresh):\n",
    "    # todo    \n",
    "    pred = model.predict(img, steps=1)\n",
    "    \n",
    "    prediction = 'Pneumonia'if pred > thresh else 'No Pneumonia'\n",
    "    \n",
    "    return f'Prediction: {prediction}\\n=================='"
   ]
  },
  {
   "cell_type": "code",
   "execution_count": 16,
   "metadata": {},
   "outputs": [
    {
     "name": "stdout",
     "output_type": "stream",
     "text": [
      "Load file test1.dcm ...\n",
      "WARNING: Patient age is 81 > 70\n",
      "Study Description: No Finding\n",
      "Prediction: No Pneumonia\n",
      "================== \n",
      "\n",
      "Load file test2.dcm ...\n",
      "Study Description: Cardiomegaly\n",
      "Prediction: Pneumonia\n",
      "================== \n",
      "\n",
      "Load file test3.dcm ...\n",
      "WARNING: Patient age is 77 > 70\n",
      "Study Description: Effusion\n",
      "Prediction: Pneumonia\n",
      "================== \n",
      "\n",
      "Load file test4.dcm ...\n",
      "WARNING: Patient age is 81 > 70\n",
      "WARNING: CHEST is NOT scanned. Scanned body part is RIBCAGE\n",
      "Study Description: No Finding\n",
      "Prediction: No Pneumonia\n",
      "================== \n",
      "\n",
      "Load file test5.dcm ...\n",
      "WARNING: Patient age is 81 > 70\n",
      "Study Description: No Finding\n",
      "Prediction: No Pneumonia\n",
      "================== \n",
      "\n",
      "Load file test6.dcm ...\n",
      "WARNING: Patient age is 81 > 70\n",
      "WARNING: Patient position is XX\n",
      "Study Description: No Finding\n",
      "Prediction: No Pneumonia\n",
      "================== \n",
      "\n"
     ]
    }
   ],
   "source": [
    "test_dicoms = ['test1.dcm','test2.dcm','test3.dcm','test4.dcm','test5.dcm','test6.dcm']\n",
    "\n",
    "model_path = \"my_model_vgg_standardized.json\"#path to saved model\n",
    "weight_path = \"{}_my_model_vgg3_standardized.best.hdf5\".format('xray_class')#path to saved best weights\n",
    "\n",
    "IMG_SIZE=(224,224) # This might be different if you did not use vgg16\n",
    "img_mean = [0.485, 0.456, 0.406] # loads the mean image value they used during training preprocessing\n",
    "img_std = [0.229, 0.224, 0.225] # loads the std dev image value they used during training preprocessing\n",
    "\n",
    "my_model = load_model(model_path, weight_path)#loads model\n",
    "thresh = .35 #loads the threshold they chose for model classification \n",
    "\n",
    "# use the .dcm files to test your prediction\n",
    "for i in test_dicoms:\n",
    "    \n",
    "    img = np.array([])\n",
    "    img = check_dicom(i)\n",
    "#     img = np.expand_dims(img, 0)\n",
    "    \n",
    "    if img is None:\n",
    "        continue\n",
    "        \n",
    "    img_proc = preprocess_image(img, img_mean=[0.485, 0.456, 0.406], img_std=[0.229, 0.224, 0.225],\n",
    "                                img_size=IMG_SIZE, rescale=1/255)\n",
    "    pred = predict_image(my_model,img_proc,thresh)\n",
    "    print(pred,'\\n')"
   ]
  },
  {
   "cell_type": "markdown",
   "metadata": {},
   "source": [
    "**A note on prediction**\n",
    "check_dicom will read the important data form DICOM file and compare it with the algorithm requirements such as age, scanned body part, and patient position. If any of the aforementioned requirements denied, instead of rejecting prediction, the patient’s image will be passed onto the model to predict the presence of pneumonia, however, a warning message will also be included in the final report indicating the flaw. To compare the result, Study Description from DICOM file is also printed."
   ]
  },
  {
   "cell_type": "code",
   "execution_count": null,
   "metadata": {},
   "outputs": [],
   "source": []
  }
 ],
 "metadata": {
  "kernelspec": {
   "display_name": "Python 3",
   "language": "python",
   "name": "python3"
  },
  "language_info": {
   "codemirror_mode": {
    "name": "ipython",
    "version": 3
   },
   "file_extension": ".py",
   "mimetype": "text/x-python",
   "name": "python",
   "nbconvert_exporter": "python",
   "pygments_lexer": "ipython3",
   "version": "3.6.8"
  }
 },
 "nbformat": 4,
 "nbformat_minor": 2
}
